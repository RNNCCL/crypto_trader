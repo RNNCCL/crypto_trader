{
 "cells": [
  {
   "cell_type": "code",
   "execution_count": 1,
   "metadata": {
    "collapsed": false
   },
   "outputs": [
    {
     "name": "stdout",
     "output_type": "stream",
     "text": [
      "Populating the interactive namespace from numpy and matplotlib\n"
     ]
    }
   ],
   "source": [
    "%load_ext autoreload\n",
    "%autoreload 1\n",
    "%pylab inline"
   ]
  },
  {
   "cell_type": "code",
   "execution_count": 2,
   "metadata": {
    "collapsed": false
   },
   "outputs": [],
   "source": [
    "import pandas as pd\n",
    "import numpy as np\n",
    "import matplotlib.pyplot as plt\n",
    "from sklearn.linear_model import LinearRegression, SGDClassifier\n",
    "from sklearn.ensemble import GradientBoostingRegressor\n",
    "from sklearn.metrics import mean_squared_error\n",
    "from sklearn.preprocessing import OneHotEncoder\n",
    "\n",
    "import indicators\n",
    "from load import load"
   ]
  },
  {
   "cell_type": "markdown",
   "metadata": {},
   "source": [
    "Load dataset"
   ]
  },
  {
   "cell_type": "code",
   "execution_count": 3,
   "metadata": {
    "collapsed": false
   },
   "outputs": [
    {
     "data": {
      "text/html": [
       "<div>\n",
       "<table border=\"1\" class=\"dataframe\">\n",
       "  <thead>\n",
       "    <tr style=\"text-align: right;\">\n",
       "      <th></th>\n",
       "      <th>close</th>\n",
       "      <th>high</th>\n",
       "      <th>low</th>\n",
       "      <th>open</th>\n",
       "      <th>volume</th>\n",
       "    </tr>\n",
       "  </thead>\n",
       "  <tbody>\n",
       "    <tr>\n",
       "      <th>2016-01-01</th>\n",
       "      <td>430.573150</td>\n",
       "      <td>430.573150</td>\n",
       "      <td>430.573150</td>\n",
       "      <td>430.573150</td>\n",
       "      <td>0.0</td>\n",
       "    </tr>\n",
       "    <tr>\n",
       "      <th>2016-01-02</th>\n",
       "      <td>434.990000</td>\n",
       "      <td>434.990000</td>\n",
       "      <td>434.990000</td>\n",
       "      <td>434.990000</td>\n",
       "      <td>0.0</td>\n",
       "    </tr>\n",
       "    <tr>\n",
       "      <th>2016-01-03</th>\n",
       "      <td>436.949900</td>\n",
       "      <td>436.949900</td>\n",
       "      <td>436.949900</td>\n",
       "      <td>436.949900</td>\n",
       "      <td>0.0</td>\n",
       "    </tr>\n",
       "    <tr>\n",
       "      <th>2016-01-04</th>\n",
       "      <td>428.140000</td>\n",
       "      <td>428.140000</td>\n",
       "      <td>428.140000</td>\n",
       "      <td>428.140000</td>\n",
       "      <td>0.0</td>\n",
       "    </tr>\n",
       "    <tr>\n",
       "      <th>2016-01-05</th>\n",
       "      <td>432.000011</td>\n",
       "      <td>432.000011</td>\n",
       "      <td>432.000011</td>\n",
       "      <td>432.000011</td>\n",
       "      <td>0.0</td>\n",
       "    </tr>\n",
       "  </tbody>\n",
       "</table>\n",
       "</div>"
      ],
      "text/plain": [
       "                 close        high         low        open  volume\n",
       "2016-01-01  430.573150  430.573150  430.573150  430.573150     0.0\n",
       "2016-01-02  434.990000  434.990000  434.990000  434.990000     0.0\n",
       "2016-01-03  436.949900  436.949900  436.949900  436.949900     0.0\n",
       "2016-01-04  428.140000  428.140000  428.140000  428.140000     0.0\n",
       "2016-01-05  432.000011  432.000011  432.000011  432.000011     0.0"
      ]
     },
     "execution_count": 3,
     "metadata": {},
     "output_type": "execute_result"
    }
   ],
   "source": [
    "df = load()\n",
    "df.head()"
   ]
  },
  {
   "cell_type": "code",
   "execution_count": 4,
   "metadata": {
    "collapsed": false
   },
   "outputs": [
    {
     "data": {
      "text/html": [
       "<div>\n",
       "<table border=\"1\" class=\"dataframe\">\n",
       "  <thead>\n",
       "    <tr style=\"text-align: right;\">\n",
       "      <th></th>\n",
       "      <th>close</th>\n",
       "      <th>high</th>\n",
       "      <th>low</th>\n",
       "      <th>open</th>\n",
       "      <th>volume</th>\n",
       "    </tr>\n",
       "  </thead>\n",
       "  <tbody>\n",
       "    <tr>\n",
       "      <th>count</th>\n",
       "      <td>421.000000</td>\n",
       "      <td>421.000000</td>\n",
       "      <td>421.000000</td>\n",
       "      <td>421.000000</td>\n",
       "      <td>421.000000</td>\n",
       "    </tr>\n",
       "    <tr>\n",
       "      <th>mean</th>\n",
       "      <td>618.886586</td>\n",
       "      <td>619.534926</td>\n",
       "      <td>618.070040</td>\n",
       "      <td>618.792243</td>\n",
       "      <td>1847.379699</td>\n",
       "    </tr>\n",
       "    <tr>\n",
       "      <th>std</th>\n",
       "      <td>189.288367</td>\n",
       "      <td>189.618494</td>\n",
       "      <td>189.040459</td>\n",
       "      <td>189.416316</td>\n",
       "      <td>7473.693197</td>\n",
       "    </tr>\n",
       "    <tr>\n",
       "      <th>min</th>\n",
       "      <td>360.000030</td>\n",
       "      <td>360.000030</td>\n",
       "      <td>357.000000</td>\n",
       "      <td>357.000000</td>\n",
       "      <td>0.000000</td>\n",
       "    </tr>\n",
       "    <tr>\n",
       "      <th>25%</th>\n",
       "      <td>436.949900</td>\n",
       "      <td>436.949900</td>\n",
       "      <td>436.949900</td>\n",
       "      <td>436.949900</td>\n",
       "      <td>0.124774</td>\n",
       "    </tr>\n",
       "    <tr>\n",
       "      <th>50%</th>\n",
       "      <td>609.999996</td>\n",
       "      <td>610.466028</td>\n",
       "      <td>609.176066</td>\n",
       "      <td>609.999996</td>\n",
       "      <td>107.771139</td>\n",
       "    </tr>\n",
       "    <tr>\n",
       "      <th>75%</th>\n",
       "      <td>727.722587</td>\n",
       "      <td>727.722587</td>\n",
       "      <td>727.500000</td>\n",
       "      <td>727.500000</td>\n",
       "      <td>966.157168</td>\n",
       "    </tr>\n",
       "    <tr>\n",
       "      <th>max</th>\n",
       "      <td>1189.000000</td>\n",
       "      <td>1192.000000</td>\n",
       "      <td>1186.000000</td>\n",
       "      <td>1186.161000</td>\n",
       "      <td>131678.785978</td>\n",
       "    </tr>\n",
       "  </tbody>\n",
       "</table>\n",
       "</div>"
      ],
      "text/plain": [
       "             close         high          low         open         volume\n",
       "count   421.000000   421.000000   421.000000   421.000000     421.000000\n",
       "mean    618.886586   619.534926   618.070040   618.792243    1847.379699\n",
       "std     189.288367   189.618494   189.040459   189.416316    7473.693197\n",
       "min     360.000030   360.000030   357.000000   357.000000       0.000000\n",
       "25%     436.949900   436.949900   436.949900   436.949900       0.124774\n",
       "50%     609.999996   610.466028   609.176066   609.999996     107.771139\n",
       "75%     727.722587   727.722587   727.500000   727.500000     966.157168\n",
       "max    1189.000000  1192.000000  1186.000000  1186.161000  131678.785978"
      ]
     },
     "execution_count": 4,
     "metadata": {},
     "output_type": "execute_result"
    }
   ],
   "source": [
    "df.describe()"
   ]
  },
  {
   "cell_type": "code",
   "execution_count": null,
   "metadata": {
    "collapsed": true
   },
   "outputs": [],
   "source": []
  },
  {
   "cell_type": "markdown",
   "metadata": {},
   "source": [
    "Define labels"
   ]
  },
  {
   "cell_type": "code",
   "execution_count": 5,
   "metadata": {
    "collapsed": false
   },
   "outputs": [],
   "source": [
    "#df['y'] = (1 - df['close'] / df['close'].shift(1)).shift(-1)\n",
    "df['y'] = (df['close'].shift(-4) / df['close'] - 1)"
   ]
  },
  {
   "cell_type": "code",
   "execution_count": 6,
   "metadata": {
    "collapsed": false
   },
   "outputs": [
    {
     "data": {
      "text/plain": [
       "0.010698435193384551"
      ]
     },
     "execution_count": 6,
     "metadata": {},
     "output_type": "execute_result"
    }
   ],
   "source": [
    "df['y'].mean()"
   ]
  },
  {
   "cell_type": "code",
   "execution_count": null,
   "metadata": {
    "collapsed": true
   },
   "outputs": [],
   "source": []
  },
  {
   "cell_type": "markdown",
   "metadata": {},
   "source": [
    "Add indicators"
   ]
  },
  {
   "cell_type": "code",
   "execution_count": 7,
   "metadata": {
    "collapsed": false
   },
   "outputs": [],
   "source": [
    "wanted_indicators = [\n",
    "    # indicator, parameters\n",
    "    #['rsi', 4],\n",
    "    ['ma_rel_diff', 4],\n",
    "    ['macd', 4, 8, 4],\n",
    "]"
   ]
  },
  {
   "cell_type": "code",
   "execution_count": 8,
   "metadata": {
    "collapsed": false
   },
   "outputs": [
    {
     "data": {
      "text/plain": [
       "{'adx': <function indicators.adx>,\n",
       " 'atr': <function indicators.atr>,\n",
       " 'bbands': <function indicators.bbands>,\n",
       " 'ema_rel_diff': <function indicators.ema_rel_diff>,\n",
       " 'ma_rel_diff': <function indicators.ma_rel_diff>,\n",
       " 'macd': <function indicators.macd>,\n",
       " 'mom': <function indicators.mom>,\n",
       " 'normalized_bbands': <function indicators.normalized_bbands>,\n",
       " 'roc': <function indicators.roc>,\n",
       " 'rsi': <function indicators.rsi>,\n",
       " 'stoch': <function indicators.stochastics>}"
      ]
     },
     "execution_count": 8,
     "metadata": {},
     "output_type": "execute_result"
    }
   ],
   "source": [
    "indicators.indicators_map"
   ]
  },
  {
   "cell_type": "code",
   "execution_count": 9,
   "metadata": {
    "collapsed": true
   },
   "outputs": [],
   "source": [
    "exclude_cols = df.columns.values"
   ]
  },
  {
   "cell_type": "code",
   "execution_count": 10,
   "metadata": {
    "collapsed": false
   },
   "outputs": [],
   "source": [
    "for ind in wanted_indicators:\n",
    "    df = indicators.indicators_map[ind[0]](df, *ind[1:])\n",
    "use_cols = list(set(df.columns.values) - set(exclude_cols))"
   ]
  },
  {
   "cell_type": "code",
   "execution_count": 11,
   "metadata": {
    "collapsed": false
   },
   "outputs": [
    {
     "data": {
      "text/plain": [
       "['ma_rel_diff_4', 'macd_4_8_4']"
      ]
     },
     "execution_count": 11,
     "metadata": {},
     "output_type": "execute_result"
    }
   ],
   "source": [
    "use_cols"
   ]
  },
  {
   "cell_type": "code",
   "execution_count": 12,
   "metadata": {
    "collapsed": false
   },
   "outputs": [],
   "source": [
    "df = df.dropna()"
   ]
  },
  {
   "cell_type": "code",
   "execution_count": null,
   "metadata": {
    "collapsed": true
   },
   "outputs": [],
   "source": []
  },
  {
   "cell_type": "markdown",
   "metadata": {},
   "source": [
    "Split training and testing data"
   ]
  },
  {
   "cell_type": "code",
   "execution_count": 13,
   "metadata": {
    "collapsed": false
   },
   "outputs": [],
   "source": [
    "train_data = df[:int(len(df)*0.8)]\n",
    "test_data = df[int(len(df)*0.8):]"
   ]
  },
  {
   "cell_type": "code",
   "execution_count": null,
   "metadata": {
    "collapsed": true
   },
   "outputs": [],
   "source": []
  },
  {
   "cell_type": "markdown",
   "metadata": {},
   "source": [
    "Linear Regression"
   ]
  },
  {
   "cell_type": "code",
   "execution_count": 14,
   "metadata": {
    "collapsed": false
   },
   "outputs": [],
   "source": [
    "lr = LinearRegression()"
   ]
  },
  {
   "cell_type": "code",
   "execution_count": 15,
   "metadata": {
    "collapsed": false
   },
   "outputs": [
    {
     "data": {
      "text/plain": [
       "LinearRegression(copy_X=True, fit_intercept=True, n_jobs=1, normalize=False)"
      ]
     },
     "execution_count": 15,
     "metadata": {},
     "output_type": "execute_result"
    }
   ],
   "source": [
    "lr.fit(train_data[use_cols].values.reshape(len(train_data), len(use_cols)), train_data['y'].values)"
   ]
  },
  {
   "cell_type": "code",
   "execution_count": 16,
   "metadata": {
    "collapsed": false
   },
   "outputs": [],
   "source": [
    "predicted = lr.predict(test_data[use_cols].values.reshape(len(test_data), len(use_cols)))"
   ]
  },
  {
   "cell_type": "code",
   "execution_count": 17,
   "metadata": {
    "collapsed": false
   },
   "outputs": [
    {
     "data": {
      "text/plain": [
       "0.067359856622455153"
      ]
     },
     "execution_count": 17,
     "metadata": {},
     "output_type": "execute_result"
    }
   ],
   "source": [
    "rmse = np.sqrt(mean_squared_error(test_data['y'].values, predicted))\n",
    "rmse"
   ]
  },
  {
   "cell_type": "code",
   "execution_count": 18,
   "metadata": {
    "collapsed": false,
    "scrolled": true
   },
   "outputs": [
    {
     "data": {
      "text/plain": [
       "[<matplotlib.lines.Line2D at 0x7fbca5c2ac50>]"
      ]
     },
     "execution_count": 18,
     "metadata": {},
     "output_type": "execute_result"
    },
    {
     "data": {
      "image/png": "[encoded data removed]",
      "text/plain": [
       "<matplotlib.figure.Figure at 0x7fbca5c2ac90>"
      ]
     },
     "metadata": {},
     "output_type": "display_data"
    }
   ],
   "source": [
    "plt.plot(test_data.y.values)\n",
    "plt.plot(predicted)"
   ]
  },
  {
   "cell_type": "code",
   "execution_count": null,
   "metadata": {
    "collapsed": true
   },
   "outputs": [],
   "source": []
  },
  {
   "cell_type": "markdown",
   "metadata": {},
   "source": [
    "Boosted Trees Regression"
   ]
  },
  {
   "cell_type": "code",
   "execution_count": 19,
   "metadata": {
    "collapsed": false
   },
   "outputs": [
    {
     "name": "stdout",
     "output_type": "stream",
     "text": [
      "0.0678720959169\n"
     ]
    }
   ],
   "source": [
    "gbr = GradientBoostingRegressor(n_estimators=200, learning_rate=0.03,\n",
    "     max_depth=5, random_state=0, loss='lad').fit(train_data[use_cols].values, train_data['y'].values)\n",
    "predicted = gbr.predict(test_data[use_cols].values)\n",
    "rmse = np.sqrt(mean_squared_error(test_data['y'].values, predicted))\n",
    "\n",
    "print rmse"
   ]
  },
  {
   "cell_type": "code",
   "execution_count": 20,
   "metadata": {
    "collapsed": false
   },
   "outputs": [
    {
     "data": {
      "text/plain": [
       "[<matplotlib.lines.Line2D at 0x7fbcbb910890>]"
      ]
     },
     "execution_count": 20,
     "metadata": {},
     "output_type": "execute_result"
    },
    {
     "data": {
      "image/png": "[encoded data removed]",
      "text/plain": [
       "<matplotlib.figure.Figure at 0x7fbcbb910a10>"
      ]
     },
     "metadata": {},
     "output_type": "display_data"
    }
   ],
   "source": [
    "plt.plot(test_data.y.values)\n",
    "plt.plot(predicted)"
   ]
  },
  {
   "cell_type": "code",
   "execution_count": null,
   "metadata": {
    "collapsed": true
   },
   "outputs": [],
   "source": []
  },
  {
   "cell_type": "markdown",
   "metadata": {
    "collapsed": true
   },
   "source": [
    "Logistic regression"
   ]
  },
  {
   "cell_type": "code",
   "execution_count": 21,
   "metadata": {
    "collapsed": false
   },
   "outputs": [
    {
     "name": "stdout",
     "output_type": "stream",
     "text": [
      "0.5\n",
      "0.596330275229\n"
     ]
    }
   ],
   "source": [
    "df['y'] = (df['close'].shift(-4) / df['close'] - 1).gt(0)\n",
    "# discretize columns\n",
    "for c in use_cols:\n",
    "    df[c] = pd.qcut(df[c].values, 10).codes\n",
    "\n",
    "train_data = df[:int(len(df)*0.8)]\n",
    "test_data = df[int(len(df)*0.8):]\n",
    "\n",
    "sgd = SGDClassifier(loss='log')\n",
    "ohenc = OneHotEncoder()\n",
    "ohenc.fit(df[use_cols])\n",
    "sgd.fit(ohenc.transform(train_data[use_cols].values.reshape(len(train_data), len(use_cols))), train_data['y'].values)\n",
    "predicted = sgd.predict_proba(ohenc.transform(test_data[use_cols].values.reshape(len(test_data), len(use_cols))))\n",
    "print predicted.mean()\n",
    "print train_data['y'].mean()"
   ]
  },
  {
   "cell_type": "code",
   "execution_count": null,
   "metadata": {
    "collapsed": true
   },
   "outputs": [],
   "source": []
  }
 ],
 "metadata": {
  "kernelspec": {
   "display_name": "Python 2",
   "language": "python",
   "name": "python2"
  },
  "language_info": {
   "codemirror_mode": {
    "name": "ipython",
    "version": 2
   },
   "file_extension": ".py",
   "mimetype": "text/x-python",
   "name": "python",
   "nbconvert_exporter": "python",
   "pygments_lexer": "ipython2",
   "version": "2.7.9"
  }
 },
 "nbformat": 4,
 "nbformat_minor": 2
}
