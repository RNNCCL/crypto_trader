{
 "cells": [
  {
   "cell_type": "code",
   "execution_count": 1,
   "metadata": {
    "collapsed": false
   },
   "outputs": [
    {
     "name": "stdout",
     "output_type": "stream",
     "text": [
      "Populating the interactive namespace from numpy and matplotlib\n"
     ]
    }
   ],
   "source": [
    "%load_ext autoreload\n",
    "%autoreload 1\n",
    "%pylab inline"
   ]
  },
  {
   "cell_type": "code",
   "execution_count": 2,
   "metadata": {
    "collapsed": false
   },
   "outputs": [],
   "source": [
    "import pandas as pd\n",
    "import numpy as np\n",
    "import matplotlib.pyplot as plt\n",
    "from sklearn.linear_model import LinearRegression\n",
    "from sklearn.metrics import mean_squared_error\n",
    "\n",
    "import indicators\n",
    "from load import load"
   ]
  },
  {
   "cell_type": "code",
   "execution_count": 4,
   "metadata": {
    "collapsed": false
   },
   "outputs": [
    {
     "data": {
      "text/html": [
       "<div>\n",
       "<table border=\"1\" class=\"dataframe\">\n",
       "  <thead>\n",
       "    <tr style=\"text-align: right;\">\n",
       "      <th></th>\n",
       "      <th>close</th>\n",
       "      <th>high</th>\n",
       "      <th>low</th>\n",
       "      <th>open</th>\n",
       "      <th>volume</th>\n",
       "    </tr>\n",
       "  </thead>\n",
       "  <tbody>\n",
       "    <tr>\n",
       "      <th>2017-02-16 00:00:00</th>\n",
       "      <td>1015.57001</td>\n",
       "      <td>1015.57001</td>\n",
       "      <td>1011.600000</td>\n",
       "      <td>1011.60000</td>\n",
       "      <td>356.334534</td>\n",
       "    </tr>\n",
       "    <tr>\n",
       "      <th>2017-02-16 00:05:00</th>\n",
       "      <td>1016.00000</td>\n",
       "      <td>1016.00000</td>\n",
       "      <td>1014.835898</td>\n",
       "      <td>1015.57001</td>\n",
       "      <td>7848.530146</td>\n",
       "    </tr>\n",
       "    <tr>\n",
       "      <th>2017-02-16 00:10:00</th>\n",
       "      <td>1015.10000</td>\n",
       "      <td>1016.00000</td>\n",
       "      <td>1011.610001</td>\n",
       "      <td>1016.00000</td>\n",
       "      <td>966.125860</td>\n",
       "    </tr>\n",
       "    <tr>\n",
       "      <th>2017-02-16 00:15:00</th>\n",
       "      <td>1017.20758</td>\n",
       "      <td>1017.20758</td>\n",
       "      <td>1015.876661</td>\n",
       "      <td>1016.00000</td>\n",
       "      <td>3088.018045</td>\n",
       "    </tr>\n",
       "    <tr>\n",
       "      <th>2017-02-16 00:20:00</th>\n",
       "      <td>1015.00000</td>\n",
       "      <td>1017.20758</td>\n",
       "      <td>1015.000000</td>\n",
       "      <td>1017.20758</td>\n",
       "      <td>17.594961</td>\n",
       "    </tr>\n",
       "  </tbody>\n",
       "</table>\n",
       "</div>"
      ],
      "text/plain": [
       "                          close        high          low        open  \\\n",
       "2017-02-16 00:00:00  1015.57001  1015.57001  1011.600000  1011.60000   \n",
       "2017-02-16 00:05:00  1016.00000  1016.00000  1014.835898  1015.57001   \n",
       "2017-02-16 00:10:00  1015.10000  1016.00000  1011.610001  1016.00000   \n",
       "2017-02-16 00:15:00  1017.20758  1017.20758  1015.876661  1016.00000   \n",
       "2017-02-16 00:20:00  1015.00000  1017.20758  1015.000000  1017.20758   \n",
       "\n",
       "                          volume  \n",
       "2017-02-16 00:00:00   356.334534  \n",
       "2017-02-16 00:05:00  7848.530146  \n",
       "2017-02-16 00:10:00   966.125860  \n",
       "2017-02-16 00:15:00  3088.018045  \n",
       "2017-02-16 00:20:00    17.594961  "
      ]
     },
     "execution_count": 4,
     "metadata": {},
     "output_type": "execute_result"
    }
   ],
   "source": [
    "df = load()\n",
    "df.head()"
   ]
  },
  {
   "cell_type": "code",
   "execution_count": 5,
   "metadata": {
    "collapsed": false
   },
   "outputs": [
    {
     "data": {
      "text/html": [
       "<div>\n",
       "<table border=\"1\" class=\"dataframe\">\n",
       "  <thead>\n",
       "    <tr style=\"text-align: right;\">\n",
       "      <th></th>\n",
       "      <th>close</th>\n",
       "      <th>high</th>\n",
       "      <th>low</th>\n",
       "      <th>open</th>\n",
       "      <th>volume</th>\n",
       "    </tr>\n",
       "  </thead>\n",
       "  <tbody>\n",
       "    <tr>\n",
       "      <th>count</th>\n",
       "      <td>289.000000</td>\n",
       "      <td>289.000000</td>\n",
       "      <td>289.000000</td>\n",
       "      <td>289.000000</td>\n",
       "      <td>289.000000</td>\n",
       "    </tr>\n",
       "    <tr>\n",
       "      <th>mean</th>\n",
       "      <td>1029.633530</td>\n",
       "      <td>1030.836066</td>\n",
       "      <td>1028.348391</td>\n",
       "      <td>1029.719112</td>\n",
       "      <td>3365.962641</td>\n",
       "    </tr>\n",
       "    <tr>\n",
       "      <th>std</th>\n",
       "      <td>7.934833</td>\n",
       "      <td>7.668024</td>\n",
       "      <td>7.949878</td>\n",
       "      <td>7.654546</td>\n",
       "      <td>5621.900901</td>\n",
       "    </tr>\n",
       "    <tr>\n",
       "      <th>min</th>\n",
       "      <td>1011.700004</td>\n",
       "      <td>1014.343666</td>\n",
       "      <td>1011.600000</td>\n",
       "      <td>1011.600000</td>\n",
       "      <td>0.000000</td>\n",
       "    </tr>\n",
       "    <tr>\n",
       "      <th>25%</th>\n",
       "      <td>1024.100000</td>\n",
       "      <td>1026.147770</td>\n",
       "      <td>1023.365971</td>\n",
       "      <td>1024.819990</td>\n",
       "      <td>354.891554</td>\n",
       "    </tr>\n",
       "    <tr>\n",
       "      <th>50%</th>\n",
       "      <td>1028.000000</td>\n",
       "      <td>1029.000000</td>\n",
       "      <td>1027.000003</td>\n",
       "      <td>1027.999997</td>\n",
       "      <td>1323.341255</td>\n",
       "    </tr>\n",
       "    <tr>\n",
       "      <th>75%</th>\n",
       "      <td>1037.125678</td>\n",
       "      <td>1038.571130</td>\n",
       "      <td>1036.000000</td>\n",
       "      <td>1037.110111</td>\n",
       "      <td>3573.907939</td>\n",
       "    </tr>\n",
       "    <tr>\n",
       "      <th>max</th>\n",
       "      <td>1044.890000</td>\n",
       "      <td>1045.000000</td>\n",
       "      <td>1044.666995</td>\n",
       "      <td>1044.666995</td>\n",
       "      <td>40822.592012</td>\n",
       "    </tr>\n",
       "  </tbody>\n",
       "</table>\n",
       "</div>"
      ],
      "text/plain": [
       "             close         high          low         open        volume\n",
       "count   289.000000   289.000000   289.000000   289.000000    289.000000\n",
       "mean   1029.633530  1030.836066  1028.348391  1029.719112   3365.962641\n",
       "std       7.934833     7.668024     7.949878     7.654546   5621.900901\n",
       "min    1011.700004  1014.343666  1011.600000  1011.600000      0.000000\n",
       "25%    1024.100000  1026.147770  1023.365971  1024.819990    354.891554\n",
       "50%    1028.000000  1029.000000  1027.000003  1027.999997   1323.341255\n",
       "75%    1037.125678  1038.571130  1036.000000  1037.110111   3573.907939\n",
       "max    1044.890000  1045.000000  1044.666995  1044.666995  40822.592012"
      ]
     },
     "execution_count": 5,
     "metadata": {},
     "output_type": "execute_result"
    }
   ],
   "source": [
    "df.describe()"
   ]
  },
  {
   "cell_type": "code",
   "execution_count": 6,
   "metadata": {
    "collapsed": false
   },
   "outputs": [],
   "source": [
    "df['y'] = (1 - df['close'] / df['close'].shift(1)).shift(-1)"
   ]
  },
  {
   "cell_type": "code",
   "execution_count": 7,
   "metadata": {
    "collapsed": false
   },
   "outputs": [],
   "source": [
    "df = indicators.RSI(df, 14)\n",
    "df = indicators.STOCHASTICS(df, 14, 3)\n",
    "df = indicators.ADX(df, 14)"
   ]
  },
  {
   "cell_type": "code",
   "execution_count": 8,
   "metadata": {
    "collapsed": false
   },
   "outputs": [],
   "source": [
    "df = df.dropna()"
   ]
  },
  {
   "cell_type": "code",
   "execution_count": 9,
   "metadata": {
    "collapsed": false
   },
   "outputs": [],
   "source": [
    "train_data = df[:int(len(df)*0.8)]\n",
    "test_data = df[int(len(df)*0.8):]"
   ]
  },
  {
   "cell_type": "code",
   "execution_count": 14,
   "metadata": {
    "collapsed": false
   },
   "outputs": [],
   "source": [
    "lr = LinearRegression()"
   ]
  },
  {
   "cell_type": "code",
   "execution_count": 16,
   "metadata": {
    "collapsed": false
   },
   "outputs": [
    {
     "data": {
      "text/plain": [
       "LinearRegression(copy_X=True, fit_intercept=True, n_jobs=1, normalize=False)"
      ]
     },
     "execution_count": 16,
     "metadata": {},
     "output_type": "execute_result"
    }
   ],
   "source": [
    "lr.fit(train_data[['rsi_14', 'stoch_d_14_3', 'adx_14']].values.reshape(len(train_data), 3), train_data['y'].values)"
   ]
  },
  {
   "cell_type": "code",
   "execution_count": 18,
   "metadata": {
    "collapsed": false
   },
   "outputs": [],
   "source": [
    "predicted = lr.predict(test_data[['rsi_14', 'stoch_d_14_3', 'adx_14']].values.reshape(len(test_data), 3))"
   ]
  },
  {
   "cell_type": "code",
   "execution_count": 19,
   "metadata": {
    "collapsed": false
   },
   "outputs": [
    {
     "data": {
      "text/plain": [
       "0.0017937446234165375"
      ]
     },
     "execution_count": 19,
     "metadata": {},
     "output_type": "execute_result"
    }
   ],
   "source": [
    "rmse = np.sqrt(mean_squared_error(test_data['y'].values, predicted))\n",
    "rmse"
   ]
  },
  {
   "cell_type": "code",
   "execution_count": null,
   "metadata": {
    "collapsed": false
   },
   "outputs": [],
   "source": []
  },
  {
   "cell_type": "code",
   "execution_count": null,
   "metadata": {
    "collapsed": true
   },
   "outputs": [],
   "source": []
  },
  {
   "cell_type": "code",
   "execution_count": null,
   "metadata": {
    "collapsed": false
   },
   "outputs": [],
   "source": []
  },
  {
   "cell_type": "code",
   "execution_count": null,
   "metadata": {
    "collapsed": false
   },
   "outputs": [],
   "source": []
  },
  {
   "cell_type": "code",
   "execution_count": null,
   "metadata": {
    "collapsed": true
   },
   "outputs": [],
   "source": []
  }
 ],
 "metadata": {
  "kernelspec": {
   "display_name": "Python 2",
   "language": "python",
   "name": "python2"
  },
  "language_info": {
   "codemirror_mode": {
    "name": "ipython",
    "version": 2
   },
   "file_extension": ".py",
   "mimetype": "text/x-python",
   "name": "python",
   "nbconvert_exporter": "python",
   "pygments_lexer": "ipython2",
   "version": "2.7.13"
  }
 },
 "nbformat": 4,
 "nbformat_minor": 2
}
